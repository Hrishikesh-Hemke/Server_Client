{
 "cells": [
  {
   "cell_type": "code",
   "execution_count": 1,
   "id": "83bfe5a6-96d6-4890-8c80-a2c97580cf83",
   "metadata": {},
   "outputs": [],
   "source": [
    "import time\n",
    "import datetime\n",
    "from socket import *\n",
    "import random\n",
    "import string\n",
    "\n",
    "# Server address and port\n",
    "server_host = '172.31.0.2'  # Change this to the actual server IP address\n",
    "server_port = 12000\n",
    "\n"
   ]
  },
  {
   "cell_type": "code",
   "execution_count": 2,
   "id": "0650145f-80e1-439e-b04d-b286f6ecec83",
   "metadata": {},
   "outputs": [],
   "source": [
    "def generate_random_string(length):\n",
    "    # Get all the ASCII letters in lowercase and uppercase\n",
    "    letters = string.ascii_lowercase\n",
    "    # Randomly choose characters from letters for the given length of the string\n",
    "    random_string = ''.join(random.choice(letters) for i in range(length))\n",
    "    return random_string"
   ]
  },
  {
   "cell_type": "code",
   "execution_count": null,
   "id": "10dadf12-da94-494c-a586-1c124759a9ab",
   "metadata": {},
   "outputs": [],
   "source": [
    "# Number of pings to send\n",
    "num_pings = int(input(\"Enter the number of pings to send: \"))\n",
    "\n"
   ]
  },
  {
   "cell_type": "code",
   "execution_count": 8,
   "id": "9847b1ca-6241-4c12-b554-76951b5d482a",
   "metadata": {},
   "outputs": [],
   "source": [
    "# Create a UDP socket\n",
    "client_socket = socket(AF_INET, SOCK_DGRAM)\n",
    "\n"
   ]
  },
  {
   "cell_type": "code",
   "execution_count": 9,
   "id": "24b37a8f-a61b-417d-8c14-d6ecf4c27b0b",
   "metadata": {},
   "outputs": [],
   "source": [
    "# Initialize variables for RTT calculations and packet loss\n",
    "rtt_times = []\n",
    "packets_lost = 0\n",
    "\n"
   ]
  },
  {
   "cell_type": "code",
   "execution_count": 10,
   "id": "7f201792-743f-40d7-aad2-c9587e6e83b9",
   "metadata": {},
   "outputs": [
    {
     "name": "stdout",
     "output_type": "stream",
     "text": [
      "Message Sent: xvdae\n",
      "Request timed out for PING 1\n",
      "\n",
      "Message Sent: usqkg\n",
      "PING 2 1694255771.1833456 \n",
      "MESSAGE RETURNED: USQKG \n",
      "RTT: 0.002193 seconds\n",
      "\n",
      "Message Sent: xmkfm\n",
      "PING 3 1694255771.1855383 \n",
      "MESSAGE RETURNED: XMKFM \n",
      "RTT: 0.001806 seconds\n",
      "\n",
      "Message Sent: ywfqz\n",
      "PING 4 1694255771.187344 \n",
      "MESSAGE RETURNED: YWFQZ \n",
      "RTT: 0.001995 seconds\n",
      "\n",
      "Message Sent: plqyw\n",
      "Request timed out for PING 5\n",
      "\n",
      "Message Sent: nszxz\n",
      "Request timed out for PING 6\n",
      "\n",
      "Message Sent: cokhe\n",
      "PING 7 1694255773.2218292 \n",
      "MESSAGE RETURNED: COKHE \n",
      "RTT: 0.001642 seconds\n",
      "\n",
      "Message Sent: pmyrz\n",
      "Request timed out for PING 8\n",
      "\n",
      "Message Sent: qcsdy\n",
      "Request timed out for PING 9\n",
      "\n",
      "Message Sent: rnbgj\n",
      "PING 10 1694255775.2424788 \n",
      "MESSAGE RETURNED: RNBGJ \n",
      "RTT: 0.001988 seconds\n",
      "\n",
      "\n",
      "Ping statistics: Minimum = 0.001642 seconds, \n",
      "Maximum = 0.002193 seconds, \n",
      "Average = 0.001925 seconds, \n",
      "Packet Loss Rate = 50.00%\n"
     ]
    }
   ],
   "source": [
    "# Loop for sending pings\n",
    "for seq in range(1, num_pings + 1):\n",
    "    # Get the current time before sending the ping\n",
    "    start_time = time.time()\n",
    "    \n",
    "    #Generating rondom lowercase character to ping\n",
    "    # printing lowercase\n",
    "    letters = generate_random_string(5)\n",
    "    \n",
    "    # Prepare the message to send\n",
    "    message = f'Ping {seq} {start_time} \\nMessage Returned: {letters}'\n",
    "    print('Message Sent:',letters)\n",
    "    \n",
    "    # Send the ping message to the server\n",
    "    client_socket.sendto(message.encode(), (server_host, server_port))\n",
    "    \n",
    "    # Set a timeout for receiving a response (1 second)\n",
    "    client_socket.settimeout(1.0)\n",
    "    \n",
    "    try:\n",
    "        # Receive the response from the server\n",
    "        response, server_address = client_socket.recvfrom(1024)\n",
    "        \n",
    "        # Get the current time after receiving the response\n",
    "        end_time = time.time()\n",
    "        \n",
    "        # Calculate the round-trip time (RTT)\n",
    "        rtt = end_time - start_time\n",
    "        rtt_times.append(rtt)\n",
    "        \n",
    "        # Print the response message and RTT\n",
    "        if(response.decode()!=0):\n",
    "            print(f'{response.decode()} \\nRTT: {rtt:.6f} seconds')\n",
    "            print(end='\\n')\n",
    "            \n",
    "    except timeout:\n",
    "        # Handle timeout (packet loss)\n",
    "        print(f'Request timed out for PING {seq}')\n",
    "        print(end='\\n')\n",
    "        packets_lost += 1\n",
    "\n",
    "# Close the socket\n",
    "client_socket.close()\n",
    "\n",
    "# Calculate and print statistics\n",
    "if len(rtt_times) > 0:\n",
    "    min_rtt = min(rtt_times)\n",
    "    max_rtt = max(rtt_times)\n",
    "    avg_rtt = sum(rtt_times) / len(rtt_times)\n",
    "    packet_loss_rate = (packets_lost / num_pings) * 100\n",
    "    print(f'\\nPing statistics: Minimum = {min_rtt:.6f} seconds, \\nMaximum = {max_rtt:.6f} seconds, \\nAverage = {avg_rtt:.6f} seconds, \\nPacket Loss Rate = {packet_loss_rate:.2f}%')\n",
    "else:\n",
    "    print('\\nNo successful pings.')"
   ]
  },
  {
   "cell_type": "code",
   "execution_count": null,
   "id": "e5844d94-7583-49a1-92aa-2e3e88416f9d",
   "metadata": {},
   "outputs": [],
   "source": []
  },
  {
   "cell_type": "code",
   "execution_count": null,
   "id": "6b4b3e62-3971-4a21-8750-450adfeae4a2",
   "metadata": {},
   "outputs": [],
   "source": []
  },
  {
   "cell_type": "code",
   "execution_count": null,
   "id": "4eca8181-47d8-4431-bad5-fc2864422d61",
   "metadata": {},
   "outputs": [],
   "source": []
  }
 ],
 "metadata": {
  "kernelspec": {
   "display_name": "Python 3",
   "language": "python",
   "name": "python3"
  },
  "language_info": {
   "codemirror_mode": {
    "name": "ipython",
    "version": 3
   },
   "file_extension": ".py",
   "mimetype": "text/x-python",
   "name": "python",
   "nbconvert_exporter": "python",
   "pygments_lexer": "ipython3",
   "version": "3.8.8"
  }
 },
 "nbformat": 4,
 "nbformat_minor": 5
}
