{
 "cells": [
  {
   "cell_type": "code",
   "execution_count": 1,
   "id": "7a7b05c7-3a02-4c4a-8f15-411e26046c37",
   "metadata": {},
   "outputs": [],
   "source": [
    "# UDPPingerServer.py\n",
    "# We will need the following module to generate randomized lost packets\n",
    "import random\n",
    "from socket import *"
   ]
  },
  {
   "cell_type": "code",
   "execution_count": 2,
   "id": "9c8d5c06-edf5-4e71-a2a6-373f343f0ec1",
   "metadata": {},
   "outputs": [],
   "source": [
    "# Create a UDP socket\n",
    "# Notice the use of SOCK_DGRAM for UDP packets\n",
    "serverSocket = socket(AF_INET,SOCK_DGRAM)\n",
    "# Assign IP address and port number to socket\n",
    "serverSocket.bind(('172.31.0.2', 12000))"
   ]
  },
  {
   "cell_type": "code",
   "execution_count": null,
   "id": "d5f3268a-f2c6-407c-98cf-a8b14dd042d2",
   "metadata": {},
   "outputs": [],
   "source": [
    "while True:\n",
    "    # Receive the client packet along with the address it is coming from\n",
    "    message, address = serverSocket.recvfrom(1024)\n",
    "    # Capitalize the message from the client\n",
    "    message = message.upper()\n",
    "    # Otherwise, the server responds\n",
    "    serverSocket.sendto(message, address)"
   ]
  },
  {
   "cell_type": "code",
   "execution_count": null,
   "id": "81668b01-ebbd-400d-b869-a9122a2da58b",
   "metadata": {},
   "outputs": [],
   "source": []
  }
 ],
 "metadata": {
  "kernelspec": {
   "display_name": "Python 3",
   "language": "python",
   "name": "python3"
  },
  "language_info": {
   "codemirror_mode": {
    "name": "ipython",
    "version": 3
   },
   "file_extension": ".py",
   "mimetype": "text/x-python",
   "name": "python",
   "nbconvert_exporter": "python",
   "pygments_lexer": "ipython3",
   "version": "3.8.8"
  }
 },
 "nbformat": 4,
 "nbformat_minor": 5
}
