{
 "cells": [
  {
   "cell_type": "code",
   "execution_count": null,
   "id": "6d06b226-0c70-44eb-9d4b-af64a2da003f",
   "metadata": {},
   "outputs": [
    {
     "name": "stdout",
     "output_type": "stream",
     "text": [
      "TCP server is ready to receive connections...\n"
     ]
    }
   ],
   "source": [
    "import socket\n",
    "import random\n",
    "from threading import * \n",
    "# Server address and port\n",
    "server_host = '172.31.0.2'\n",
    "server_port = 12000\n",
    "\n",
    "def Thread_Implementation(conn, addr):\n",
    "    try:\n",
    "        while True:\n",
    "             # Receive data from the client\n",
    "            data = client_socket.recv(1024)\n",
    "            if not data:\n",
    "                break\n",
    "\n",
    "            # Capitalize the received data\n",
    "            data = data.decode().upper().encode()\n",
    "\n",
    "            # Send the modified data back to the client\n",
    "            client_socket.send(data)\n",
    "    finally:\n",
    "        client_socket.close()\n",
    "\n",
    "            \n",
    "def main():    \n",
    "    # Create a TCP socket\n",
    "    server_socket = socket.socket(socket.AF_INET, socket.SOCK_STREAM)\n",
    "\n",
    "    # Bind the socket to the server address and port\n",
    "    server_socket.bind((server_host, server_port))\n",
    "\n",
    "    # Listen for incoming connections\n",
    "    server_socket.listen()\n",
    "\n",
    "\n",
    "    print(\"TCP server is ready to receive connections...\")\n",
    "    while True:      \n",
    "        client_socket, client_address = server_socket.accept()\n",
    "        print(f\"Connection from {client_address}\")\n",
    "        thread = Thread(target = Thread_Implementation, args = (client_socket, client_address)) \n",
    "        thread.start()            \n",
    "                                  \n",
    "\n",
    "if __name__ == \"__main__\":\n",
    "    main()\n",
    "\n",
    "\n",
    "\n"
   ]
  },
  {
   "cell_type": "code",
   "execution_count": 9,
   "id": "eb748e4a-bc5b-4942-9722-5e670ae1aad6",
   "metadata": {},
   "outputs": [],
   "source": []
  },
  {
   "cell_type": "code",
   "execution_count": null,
   "id": "943f335e-9a69-4d5a-957e-7ab27115dde3",
   "metadata": {},
   "outputs": [],
   "source": []
  }
 ],
 "metadata": {
  "kernelspec": {
   "display_name": "Python 3",
   "language": "python",
   "name": "python3"
  },
  "language_info": {
   "codemirror_mode": {
    "name": "ipython",
    "version": 3
   },
   "file_extension": ".py",
   "mimetype": "text/x-python",
   "name": "python",
   "nbconvert_exporter": "python",
   "pygments_lexer": "ipython3",
   "version": "3.8.8"
  }
 },
 "nbformat": 4,
 "nbformat_minor": 5
}
