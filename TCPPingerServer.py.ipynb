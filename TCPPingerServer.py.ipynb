{
 "cells": [
  {
   "cell_type": "code",
   "execution_count": 4,
   "id": "785e0055-7532-4399-bb9e-83101e62b86c",
   "metadata": {},
   "outputs": [
    {
     "name": "stdout",
     "output_type": "stream",
     "text": [
      "TCP server is ready to receive connections...\n",
      "Connection from ('127.0.0.1', 51849)\n"
     ]
    }
   ],
   "source": [
    "import socket\n",
    "import random\n",
    "\n",
    "# Server address and port\n",
    "server_host = '172.31.0.2'\n",
    "server_port = 12000\n",
    "\n",
    "# Create a TCP socket\n",
    "server_socket = socket.socket(socket.AF_INET, socket.SOCK_STREAM)\n",
    "\n",
    "# Bind the socket to the server address and port\n",
    "server_socket.bind((server_host, server_port))\n",
    "\n",
    "# Listen for incoming connections\n",
    "server_socket.listen(1)\n",
    "\n",
    "print(\"TCP server is ready to receive connections...\")\n",
    "client_socket, client_address = server_socket.accept()\n",
    "print(f\"Connection from {client_address}\")\n",
    "\n",
    "while True:\n",
    "    # Receive data from the client\n",
    "    data = client_socket.recv(1024)\n",
    "    if not data:\n",
    "        break\n",
    "\n",
    "    # Generate a random number between 0 to 11 (both included)\n",
    "    rand = random.randint(0, 11)\n",
    "    \n",
    "    # Capitalize the received data\n",
    "    data = data.decode().upper().encode()\n",
    "    \n",
    "    # If rand is less is than 4, we consider the packet lost and do not respond\n",
    "    if rand<4:\n",
    "        continue\n",
    "    # Send the modified data back to the client\n",
    "    client_socket.send(data)\n",
    "\n",
    "server_socket.close()\n",
    "# Close the client socket\n",
    "client_socket.close()\n",
    "\n"
   ]
  },
  {
   "cell_type": "code",
   "execution_count": null,
   "id": "a5ba8f5f-79ac-40b5-a6eb-05c21e0fc9df",
   "metadata": {},
   "outputs": [],
   "source": []
  },
  {
   "cell_type": "code",
   "execution_count": null,
   "id": "d499d2c5-634d-4450-a394-71edfb4a26c1",
   "metadata": {},
   "outputs": [],
   "source": []
  },
  {
   "cell_type": "code",
   "execution_count": null,
   "id": "d6d7dccd-a8c8-49be-a6aa-8f6abf154e2b",
   "metadata": {},
   "outputs": [],
   "source": []
  },
  {
   "cell_type": "code",
   "execution_count": null,
   "id": "65a18a1f-ae95-4bee-ae1f-d55a3d146e24",
   "metadata": {},
   "outputs": [],
   "source": []
  },
  {
   "cell_type": "code",
   "execution_count": null,
   "id": "af4cc50c-feb6-4cfe-bef1-4592d78ce4c7",
   "metadata": {},
   "outputs": [],
   "source": []
  },
  {
   "cell_type": "code",
   "execution_count": null,
   "id": "b78a81fe-a5ac-44dd-bb93-557bfb3cd7e9",
   "metadata": {},
   "outputs": [],
   "source": []
  },
  {
   "cell_type": "code",
   "execution_count": null,
   "id": "d3c62cd9-189a-4299-a02b-c7df3ba0e7de",
   "metadata": {},
   "outputs": [],
   "source": []
  }
 ],
 "metadata": {
  "kernelspec": {
   "display_name": "Python 3",
   "language": "python",
   "name": "python3"
  },
  "language_info": {
   "codemirror_mode": {
    "name": "ipython",
    "version": 3
   },
   "file_extension": ".py",
   "mimetype": "text/x-python",
   "name": "python",
   "nbconvert_exporter": "python",
   "pygments_lexer": "ipython3",
   "version": "3.8.8"
  }
 },
 "nbformat": 4,
 "nbformat_minor": 5
}
