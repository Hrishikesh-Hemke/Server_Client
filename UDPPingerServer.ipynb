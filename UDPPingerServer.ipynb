{
 "cells": [
  {
   "cell_type": "code",
   "execution_count": 1,
   "id": "cc2b6282-c9e5-4be6-9f7f-c5b917d44625",
   "metadata": {},
   "outputs": [],
   "source": [
    "# UDPPingerServer.py\n",
    "# We will need the following module to generate randomized lost packets\n",
    "import random\n",
    "from socket import *"
   ]
  },
  {
   "cell_type": "code",
   "execution_count": 2,
   "id": "ecb8a4c6-de0f-4aef-a8ce-3b52431d5800",
   "metadata": {
    "tags": []
   },
   "outputs": [],
   "source": [
    "# Create a UDP socket\n",
    "# Notice the use of SOCK_DGRAM for UDP packets\n",
    "serverSocket = socket(AF_INET,SOCK_DGRAM)\n",
    "# Assign IP address and port number to socket\n",
    "serverSocket.bind(('172.31.0.2', 12000))"
   ]
  },
  {
   "cell_type": "code",
   "execution_count": null,
   "id": "be39878a-2257-48ce-9892-e3a4ef050c75",
   "metadata": {},
   "outputs": [],
   "source": [
    "while True:\n",
    "    while True:\n",
    "        # Generate a random number between 0 to 11 (both included)\n",
    "        rand = random.randint(0, 11)\n",
    "        # Receive the client packet along with the address it is coming from\n",
    "        message, address = serverSocket.recvfrom(1024)\n",
    "        # Capitalize the message from the client\n",
    "        message = message.upper()\n",
    "        # If rand is less is than 4, we consider the packet lost and do not respond\n",
    "        if rand<4:\n",
    "            continue\n",
    "        # Otherwise, the server responds\n",
    "        serverSocket.sendto(message, address)"
   ]
  },
  {
   "cell_type": "code",
   "execution_count": null,
   "id": "25b28c7b-2e6c-4aca-b660-dd9714e69f89",
   "metadata": {},
   "outputs": [],
   "source": []
  },
  {
   "cell_type": "code",
   "execution_count": null,
   "id": "6462a22e-8011-4637-801b-3ef03a8127b0",
   "metadata": {},
   "outputs": [],
   "source": []
  }
 ],
 "metadata": {
  "kernelspec": {
   "display_name": "Python 3",
   "language": "python",
   "name": "python3"
  },
  "language_info": {
   "codemirror_mode": {
    "name": "ipython",
    "version": 3
   },
   "file_extension": ".py",
   "mimetype": "text/x-python",
   "name": "python",
   "nbconvert_exporter": "python",
   "pygments_lexer": "ipython3",
   "version": "3.8.8"
  }
 },
 "nbformat": 4,
 "nbformat_minor": 5
}
